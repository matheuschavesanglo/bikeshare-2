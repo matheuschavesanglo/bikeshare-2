{
 "cells": [
  {
   "cell_type": "code",
   "execution_count": 1,
   "id": "e8ccb8d8",
   "metadata": {},
   "outputs": [],
   "source": [
    "import time\n",
    "import pandas as pd\n",
    "import numpy as np"
   ]
  },
  {
   "cell_type": "code",
   "execution_count": 2,
   "id": "e8fed229",
   "metadata": {},
   "outputs": [],
   "source": [
    "CITY_DATA = { 'chicago': 'chicago.csv',\n",
    "              'new york city': 'new_york_city.csv',\n",
    "              'washington': 'washington.csv' }"
   ]
  },
  {
   "cell_type": "code",
   "execution_count": 3,
   "id": "0c4093bf",
   "metadata": {},
   "outputs": [
    {
     "data": {
      "text/html": [
       "<div>\n",
       "<style scoped>\n",
       "    .dataframe tbody tr th:only-of-type {\n",
       "        vertical-align: middle;\n",
       "    }\n",
       "\n",
       "    .dataframe tbody tr th {\n",
       "        vertical-align: top;\n",
       "    }\n",
       "\n",
       "    .dataframe thead th {\n",
       "        text-align: right;\n",
       "    }\n",
       "</style>\n",
       "<table border=\"1\" class=\"dataframe\">\n",
       "  <thead>\n",
       "    <tr style=\"text-align: right;\">\n",
       "      <th></th>\n",
       "      <th>Unnamed: 0</th>\n",
       "      <th>Start Time</th>\n",
       "      <th>End Time</th>\n",
       "      <th>Trip Duration</th>\n",
       "      <th>Start Station</th>\n",
       "      <th>End Station</th>\n",
       "      <th>User Type</th>\n",
       "      <th>Gender</th>\n",
       "      <th>Birth Year</th>\n",
       "    </tr>\n",
       "  </thead>\n",
       "  <tbody>\n",
       "    <tr>\n",
       "      <th>0</th>\n",
       "      <td>1423854</td>\n",
       "      <td>2017-06-23 15:09:32</td>\n",
       "      <td>2017-06-23 15:14:53</td>\n",
       "      <td>321</td>\n",
       "      <td>Wood St &amp; Hubbard St</td>\n",
       "      <td>Damen Ave &amp; Chicago Ave</td>\n",
       "      <td>Subscriber</td>\n",
       "      <td>Male</td>\n",
       "      <td>1992.0</td>\n",
       "    </tr>\n",
       "    <tr>\n",
       "      <th>1</th>\n",
       "      <td>955915</td>\n",
       "      <td>2017-05-25 18:19:03</td>\n",
       "      <td>2017-05-25 18:45:53</td>\n",
       "      <td>1610</td>\n",
       "      <td>Theater on the Lake</td>\n",
       "      <td>Sheffield Ave &amp; Waveland Ave</td>\n",
       "      <td>Subscriber</td>\n",
       "      <td>Female</td>\n",
       "      <td>1992.0</td>\n",
       "    </tr>\n",
       "    <tr>\n",
       "      <th>2</th>\n",
       "      <td>9031</td>\n",
       "      <td>2017-01-04 08:27:49</td>\n",
       "      <td>2017-01-04 08:34:45</td>\n",
       "      <td>416</td>\n",
       "      <td>May St &amp; Taylor St</td>\n",
       "      <td>Wood St &amp; Taylor St</td>\n",
       "      <td>Subscriber</td>\n",
       "      <td>Male</td>\n",
       "      <td>1981.0</td>\n",
       "    </tr>\n",
       "    <tr>\n",
       "      <th>3</th>\n",
       "      <td>304487</td>\n",
       "      <td>2017-03-06 13:49:38</td>\n",
       "      <td>2017-03-06 13:55:28</td>\n",
       "      <td>350</td>\n",
       "      <td>Christiana Ave &amp; Lawrence Ave</td>\n",
       "      <td>St. Louis Ave &amp; Balmoral Ave</td>\n",
       "      <td>Subscriber</td>\n",
       "      <td>Male</td>\n",
       "      <td>1986.0</td>\n",
       "    </tr>\n",
       "    <tr>\n",
       "      <th>4</th>\n",
       "      <td>45207</td>\n",
       "      <td>2017-01-17 14:53:07</td>\n",
       "      <td>2017-01-17 15:02:01</td>\n",
       "      <td>534</td>\n",
       "      <td>Clark St &amp; Randolph St</td>\n",
       "      <td>Desplaines St &amp; Jackson Blvd</td>\n",
       "      <td>Subscriber</td>\n",
       "      <td>Male</td>\n",
       "      <td>1975.0</td>\n",
       "    </tr>\n",
       "    <tr>\n",
       "      <th>...</th>\n",
       "      <td>...</td>\n",
       "      <td>...</td>\n",
       "      <td>...</td>\n",
       "      <td>...</td>\n",
       "      <td>...</td>\n",
       "      <td>...</td>\n",
       "      <td>...</td>\n",
       "      <td>...</td>\n",
       "      <td>...</td>\n",
       "    </tr>\n",
       "    <tr>\n",
       "      <th>299995</th>\n",
       "      <td>64825</td>\n",
       "      <td>2017-01-21 13:18:00</td>\n",
       "      <td>2017-01-21 13:27:50</td>\n",
       "      <td>590</td>\n",
       "      <td>Orleans St &amp; Elm St (*)</td>\n",
       "      <td>Sheffield Ave &amp; Webster Ave</td>\n",
       "      <td>Subscriber</td>\n",
       "      <td>Male</td>\n",
       "      <td>1965.0</td>\n",
       "    </tr>\n",
       "    <tr>\n",
       "      <th>299996</th>\n",
       "      <td>695993</td>\n",
       "      <td>2017-04-28 19:32:19</td>\n",
       "      <td>2017-04-28 19:51:18</td>\n",
       "      <td>1139</td>\n",
       "      <td>Ashland Ave &amp; Blackhawk St</td>\n",
       "      <td>Clark St &amp; Elm St</td>\n",
       "      <td>Customer</td>\n",
       "      <td>NaN</td>\n",
       "      <td>NaN</td>\n",
       "    </tr>\n",
       "    <tr>\n",
       "      <th>299997</th>\n",
       "      <td>159685</td>\n",
       "      <td>2017-02-12 09:59:01</td>\n",
       "      <td>2017-02-12 10:21:49</td>\n",
       "      <td>1368</td>\n",
       "      <td>Ravenswood Ave &amp; Lawrence Ave</td>\n",
       "      <td>Stockton Dr &amp; Wrightwood Ave</td>\n",
       "      <td>Subscriber</td>\n",
       "      <td>Female</td>\n",
       "      <td>1988.0</td>\n",
       "    </tr>\n",
       "    <tr>\n",
       "      <th>299998</th>\n",
       "      <td>564681</td>\n",
       "      <td>2017-04-16 17:07:15</td>\n",
       "      <td>2017-04-16 17:19:00</td>\n",
       "      <td>705</td>\n",
       "      <td>Sheffield Ave &amp; Willow St</td>\n",
       "      <td>Clark St &amp; Chicago Ave</td>\n",
       "      <td>Customer</td>\n",
       "      <td>NaN</td>\n",
       "      <td>NaN</td>\n",
       "    </tr>\n",
       "    <tr>\n",
       "      <th>299999</th>\n",
       "      <td>1021247</td>\n",
       "      <td>2017-05-30 12:38:28</td>\n",
       "      <td>2017-05-30 12:55:36</td>\n",
       "      <td>1028</td>\n",
       "      <td>Wacker Dr &amp; Washington St</td>\n",
       "      <td>Damen Ave &amp; Division St</td>\n",
       "      <td>Subscriber</td>\n",
       "      <td>Male</td>\n",
       "      <td>1984.0</td>\n",
       "    </tr>\n",
       "  </tbody>\n",
       "</table>\n",
       "<p>300000 rows × 9 columns</p>\n",
       "</div>"
      ],
      "text/plain": [
       "        Unnamed: 0           Start Time             End Time  Trip Duration  \\\n",
       "0          1423854  2017-06-23 15:09:32  2017-06-23 15:14:53            321   \n",
       "1           955915  2017-05-25 18:19:03  2017-05-25 18:45:53           1610   \n",
       "2             9031  2017-01-04 08:27:49  2017-01-04 08:34:45            416   \n",
       "3           304487  2017-03-06 13:49:38  2017-03-06 13:55:28            350   \n",
       "4            45207  2017-01-17 14:53:07  2017-01-17 15:02:01            534   \n",
       "...            ...                  ...                  ...            ...   \n",
       "299995       64825  2017-01-21 13:18:00  2017-01-21 13:27:50            590   \n",
       "299996      695993  2017-04-28 19:32:19  2017-04-28 19:51:18           1139   \n",
       "299997      159685  2017-02-12 09:59:01  2017-02-12 10:21:49           1368   \n",
       "299998      564681  2017-04-16 17:07:15  2017-04-16 17:19:00            705   \n",
       "299999     1021247  2017-05-30 12:38:28  2017-05-30 12:55:36           1028   \n",
       "\n",
       "                        Start Station                   End Station  \\\n",
       "0                Wood St & Hubbard St       Damen Ave & Chicago Ave   \n",
       "1                 Theater on the Lake  Sheffield Ave & Waveland Ave   \n",
       "2                  May St & Taylor St           Wood St & Taylor St   \n",
       "3       Christiana Ave & Lawrence Ave  St. Louis Ave & Balmoral Ave   \n",
       "4              Clark St & Randolph St  Desplaines St & Jackson Blvd   \n",
       "...                               ...                           ...   \n",
       "299995        Orleans St & Elm St (*)   Sheffield Ave & Webster Ave   \n",
       "299996     Ashland Ave & Blackhawk St             Clark St & Elm St   \n",
       "299997  Ravenswood Ave & Lawrence Ave  Stockton Dr & Wrightwood Ave   \n",
       "299998      Sheffield Ave & Willow St        Clark St & Chicago Ave   \n",
       "299999      Wacker Dr & Washington St       Damen Ave & Division St   \n",
       "\n",
       "         User Type  Gender  Birth Year  \n",
       "0       Subscriber    Male      1992.0  \n",
       "1       Subscriber  Female      1992.0  \n",
       "2       Subscriber    Male      1981.0  \n",
       "3       Subscriber    Male      1986.0  \n",
       "4       Subscriber    Male      1975.0  \n",
       "...            ...     ...         ...  \n",
       "299995  Subscriber    Male      1965.0  \n",
       "299996    Customer     NaN         NaN  \n",
       "299997  Subscriber  Female      1988.0  \n",
       "299998    Customer     NaN         NaN  \n",
       "299999  Subscriber    Male      1984.0  \n",
       "\n",
       "[300000 rows x 9 columns]"
      ]
     },
     "execution_count": 3,
     "metadata": {},
     "output_type": "execute_result"
    }
   ],
   "source": [
    "df = pd.read_csv('chicago.csv')\n",
    "df"
   ]
  },
  {
   "cell_type": "code",
   "execution_count": 4,
   "id": "93ea443a",
   "metadata": {},
   "outputs": [],
   "source": [
    "df['Start Time'] = pd.to_datetime(df['Start Time'])"
   ]
  },
  {
   "cell_type": "code",
   "execution_count": 5,
   "id": "7ddfc853",
   "metadata": {},
   "outputs": [
    {
     "data": {
      "text/html": [
       "<div>\n",
       "<style scoped>\n",
       "    .dataframe tbody tr th:only-of-type {\n",
       "        vertical-align: middle;\n",
       "    }\n",
       "\n",
       "    .dataframe tbody tr th {\n",
       "        vertical-align: top;\n",
       "    }\n",
       "\n",
       "    .dataframe thead th {\n",
       "        text-align: right;\n",
       "    }\n",
       "</style>\n",
       "<table border=\"1\" class=\"dataframe\">\n",
       "  <thead>\n",
       "    <tr style=\"text-align: right;\">\n",
       "      <th></th>\n",
       "      <th>Unnamed: 0</th>\n",
       "      <th>Start Time</th>\n",
       "      <th>End Time</th>\n",
       "      <th>Trip Duration</th>\n",
       "      <th>Start Station</th>\n",
       "      <th>End Station</th>\n",
       "      <th>User Type</th>\n",
       "      <th>Gender</th>\n",
       "      <th>Birth Year</th>\n",
       "      <th>month</th>\n",
       "      <th>day_of_week</th>\n",
       "    </tr>\n",
       "  </thead>\n",
       "  <tbody>\n",
       "    <tr>\n",
       "      <th>0</th>\n",
       "      <td>1423854</td>\n",
       "      <td>2017-06-23 15:09:32</td>\n",
       "      <td>2017-06-23 15:14:53</td>\n",
       "      <td>321</td>\n",
       "      <td>Wood St &amp; Hubbard St</td>\n",
       "      <td>Damen Ave &amp; Chicago Ave</td>\n",
       "      <td>Subscriber</td>\n",
       "      <td>Male</td>\n",
       "      <td>1992.0</td>\n",
       "      <td>6</td>\n",
       "      <td>4</td>\n",
       "    </tr>\n",
       "    <tr>\n",
       "      <th>1</th>\n",
       "      <td>955915</td>\n",
       "      <td>2017-05-25 18:19:03</td>\n",
       "      <td>2017-05-25 18:45:53</td>\n",
       "      <td>1610</td>\n",
       "      <td>Theater on the Lake</td>\n",
       "      <td>Sheffield Ave &amp; Waveland Ave</td>\n",
       "      <td>Subscriber</td>\n",
       "      <td>Female</td>\n",
       "      <td>1992.0</td>\n",
       "      <td>5</td>\n",
       "      <td>3</td>\n",
       "    </tr>\n",
       "    <tr>\n",
       "      <th>2</th>\n",
       "      <td>9031</td>\n",
       "      <td>2017-01-04 08:27:49</td>\n",
       "      <td>2017-01-04 08:34:45</td>\n",
       "      <td>416</td>\n",
       "      <td>May St &amp; Taylor St</td>\n",
       "      <td>Wood St &amp; Taylor St</td>\n",
       "      <td>Subscriber</td>\n",
       "      <td>Male</td>\n",
       "      <td>1981.0</td>\n",
       "      <td>1</td>\n",
       "      <td>2</td>\n",
       "    </tr>\n",
       "    <tr>\n",
       "      <th>3</th>\n",
       "      <td>304487</td>\n",
       "      <td>2017-03-06 13:49:38</td>\n",
       "      <td>2017-03-06 13:55:28</td>\n",
       "      <td>350</td>\n",
       "      <td>Christiana Ave &amp; Lawrence Ave</td>\n",
       "      <td>St. Louis Ave &amp; Balmoral Ave</td>\n",
       "      <td>Subscriber</td>\n",
       "      <td>Male</td>\n",
       "      <td>1986.0</td>\n",
       "      <td>3</td>\n",
       "      <td>0</td>\n",
       "    </tr>\n",
       "    <tr>\n",
       "      <th>4</th>\n",
       "      <td>45207</td>\n",
       "      <td>2017-01-17 14:53:07</td>\n",
       "      <td>2017-01-17 15:02:01</td>\n",
       "      <td>534</td>\n",
       "      <td>Clark St &amp; Randolph St</td>\n",
       "      <td>Desplaines St &amp; Jackson Blvd</td>\n",
       "      <td>Subscriber</td>\n",
       "      <td>Male</td>\n",
       "      <td>1975.0</td>\n",
       "      <td>1</td>\n",
       "      <td>1</td>\n",
       "    </tr>\n",
       "    <tr>\n",
       "      <th>...</th>\n",
       "      <td>...</td>\n",
       "      <td>...</td>\n",
       "      <td>...</td>\n",
       "      <td>...</td>\n",
       "      <td>...</td>\n",
       "      <td>...</td>\n",
       "      <td>...</td>\n",
       "      <td>...</td>\n",
       "      <td>...</td>\n",
       "      <td>...</td>\n",
       "      <td>...</td>\n",
       "    </tr>\n",
       "    <tr>\n",
       "      <th>299995</th>\n",
       "      <td>64825</td>\n",
       "      <td>2017-01-21 13:18:00</td>\n",
       "      <td>2017-01-21 13:27:50</td>\n",
       "      <td>590</td>\n",
       "      <td>Orleans St &amp; Elm St (*)</td>\n",
       "      <td>Sheffield Ave &amp; Webster Ave</td>\n",
       "      <td>Subscriber</td>\n",
       "      <td>Male</td>\n",
       "      <td>1965.0</td>\n",
       "      <td>1</td>\n",
       "      <td>5</td>\n",
       "    </tr>\n",
       "    <tr>\n",
       "      <th>299996</th>\n",
       "      <td>695993</td>\n",
       "      <td>2017-04-28 19:32:19</td>\n",
       "      <td>2017-04-28 19:51:18</td>\n",
       "      <td>1139</td>\n",
       "      <td>Ashland Ave &amp; Blackhawk St</td>\n",
       "      <td>Clark St &amp; Elm St</td>\n",
       "      <td>Customer</td>\n",
       "      <td>NaN</td>\n",
       "      <td>NaN</td>\n",
       "      <td>4</td>\n",
       "      <td>4</td>\n",
       "    </tr>\n",
       "    <tr>\n",
       "      <th>299997</th>\n",
       "      <td>159685</td>\n",
       "      <td>2017-02-12 09:59:01</td>\n",
       "      <td>2017-02-12 10:21:49</td>\n",
       "      <td>1368</td>\n",
       "      <td>Ravenswood Ave &amp; Lawrence Ave</td>\n",
       "      <td>Stockton Dr &amp; Wrightwood Ave</td>\n",
       "      <td>Subscriber</td>\n",
       "      <td>Female</td>\n",
       "      <td>1988.0</td>\n",
       "      <td>2</td>\n",
       "      <td>6</td>\n",
       "    </tr>\n",
       "    <tr>\n",
       "      <th>299998</th>\n",
       "      <td>564681</td>\n",
       "      <td>2017-04-16 17:07:15</td>\n",
       "      <td>2017-04-16 17:19:00</td>\n",
       "      <td>705</td>\n",
       "      <td>Sheffield Ave &amp; Willow St</td>\n",
       "      <td>Clark St &amp; Chicago Ave</td>\n",
       "      <td>Customer</td>\n",
       "      <td>NaN</td>\n",
       "      <td>NaN</td>\n",
       "      <td>4</td>\n",
       "      <td>6</td>\n",
       "    </tr>\n",
       "    <tr>\n",
       "      <th>299999</th>\n",
       "      <td>1021247</td>\n",
       "      <td>2017-05-30 12:38:28</td>\n",
       "      <td>2017-05-30 12:55:36</td>\n",
       "      <td>1028</td>\n",
       "      <td>Wacker Dr &amp; Washington St</td>\n",
       "      <td>Damen Ave &amp; Division St</td>\n",
       "      <td>Subscriber</td>\n",
       "      <td>Male</td>\n",
       "      <td>1984.0</td>\n",
       "      <td>5</td>\n",
       "      <td>1</td>\n",
       "    </tr>\n",
       "  </tbody>\n",
       "</table>\n",
       "<p>300000 rows × 11 columns</p>\n",
       "</div>"
      ],
      "text/plain": [
       "        Unnamed: 0          Start Time             End Time  Trip Duration  \\\n",
       "0          1423854 2017-06-23 15:09:32  2017-06-23 15:14:53            321   \n",
       "1           955915 2017-05-25 18:19:03  2017-05-25 18:45:53           1610   \n",
       "2             9031 2017-01-04 08:27:49  2017-01-04 08:34:45            416   \n",
       "3           304487 2017-03-06 13:49:38  2017-03-06 13:55:28            350   \n",
       "4            45207 2017-01-17 14:53:07  2017-01-17 15:02:01            534   \n",
       "...            ...                 ...                  ...            ...   \n",
       "299995       64825 2017-01-21 13:18:00  2017-01-21 13:27:50            590   \n",
       "299996      695993 2017-04-28 19:32:19  2017-04-28 19:51:18           1139   \n",
       "299997      159685 2017-02-12 09:59:01  2017-02-12 10:21:49           1368   \n",
       "299998      564681 2017-04-16 17:07:15  2017-04-16 17:19:00            705   \n",
       "299999     1021247 2017-05-30 12:38:28  2017-05-30 12:55:36           1028   \n",
       "\n",
       "                        Start Station                   End Station  \\\n",
       "0                Wood St & Hubbard St       Damen Ave & Chicago Ave   \n",
       "1                 Theater on the Lake  Sheffield Ave & Waveland Ave   \n",
       "2                  May St & Taylor St           Wood St & Taylor St   \n",
       "3       Christiana Ave & Lawrence Ave  St. Louis Ave & Balmoral Ave   \n",
       "4              Clark St & Randolph St  Desplaines St & Jackson Blvd   \n",
       "...                               ...                           ...   \n",
       "299995        Orleans St & Elm St (*)   Sheffield Ave & Webster Ave   \n",
       "299996     Ashland Ave & Blackhawk St             Clark St & Elm St   \n",
       "299997  Ravenswood Ave & Lawrence Ave  Stockton Dr & Wrightwood Ave   \n",
       "299998      Sheffield Ave & Willow St        Clark St & Chicago Ave   \n",
       "299999      Wacker Dr & Washington St       Damen Ave & Division St   \n",
       "\n",
       "         User Type  Gender  Birth Year  month  day_of_week  \n",
       "0       Subscriber    Male      1992.0      6            4  \n",
       "1       Subscriber  Female      1992.0      5            3  \n",
       "2       Subscriber    Male      1981.0      1            2  \n",
       "3       Subscriber    Male      1986.0      3            0  \n",
       "4       Subscriber    Male      1975.0      1            1  \n",
       "...            ...     ...         ...    ...          ...  \n",
       "299995  Subscriber    Male      1965.0      1            5  \n",
       "299996    Customer     NaN         NaN      4            4  \n",
       "299997  Subscriber  Female      1988.0      2            6  \n",
       "299998    Customer     NaN         NaN      4            6  \n",
       "299999  Subscriber    Male      1984.0      5            1  \n",
       "\n",
       "[300000 rows x 11 columns]"
      ]
     },
     "execution_count": 5,
     "metadata": {},
     "output_type": "execute_result"
    }
   ],
   "source": [
    "df['month'] = df['Start Time'].dt.month\n",
    "df['day_of_week'] = df['Start Time'].dt.dayofweek\n",
    "df"
   ]
  },
  {
   "cell_type": "code",
   "execution_count": 6,
   "id": "5e247dde",
   "metadata": {},
   "outputs": [
    {
     "name": "stdout",
     "output_type": "stream",
     "text": [
      "<class 'pandas.core.frame.DataFrame'>\n",
      "RangeIndex: 300000 entries, 0 to 299999\n",
      "Data columns (total 11 columns):\n",
      " #   Column         Non-Null Count   Dtype         \n",
      "---  ------         --------------   -----         \n",
      " 0   Unnamed: 0     300000 non-null  int64         \n",
      " 1   Start Time     300000 non-null  datetime64[ns]\n",
      " 2   End Time       300000 non-null  object        \n",
      " 3   Trip Duration  300000 non-null  int64         \n",
      " 4   Start Station  300000 non-null  object        \n",
      " 5   End Station    300000 non-null  object        \n",
      " 6   User Type      300000 non-null  object        \n",
      " 7   Gender         238948 non-null  object        \n",
      " 8   Birth Year     238981 non-null  float64       \n",
      " 9   month          300000 non-null  int64         \n",
      " 10  day_of_week    300000 non-null  int64         \n",
      "dtypes: datetime64[ns](1), float64(1), int64(4), object(5)\n",
      "memory usage: 25.2+ MB\n"
     ]
    }
   ],
   "source": [
    "df.info()"
   ]
  },
  {
   "cell_type": "code",
   "execution_count": 25,
   "id": "62df17d4",
   "metadata": {},
   "outputs": [],
   "source": [
    "i=0\n",
    "m_list_1=[]\n",
    "while i < len(df):\n",
    "    months = ['january', 'february', 'march', 'april', 'may', 'june','july', 'august', 'september','october', 'november', 'december']\n",
    "    month = (df['month'][i])-1\n",
    "    to_add = months[month]\n",
    "    m_list_1.append(to_add)\n",
    "    i+=1"
   ]
  },
  {
   "cell_type": "code",
   "execution_count": 26,
   "id": "450e03b8",
   "metadata": {},
   "outputs": [
    {
     "data": {
      "text/html": [
       "<div>\n",
       "<style scoped>\n",
       "    .dataframe tbody tr th:only-of-type {\n",
       "        vertical-align: middle;\n",
       "    }\n",
       "\n",
       "    .dataframe tbody tr th {\n",
       "        vertical-align: top;\n",
       "    }\n",
       "\n",
       "    .dataframe thead th {\n",
       "        text-align: right;\n",
       "    }\n",
       "</style>\n",
       "<table border=\"1\" class=\"dataframe\">\n",
       "  <thead>\n",
       "    <tr style=\"text-align: right;\">\n",
       "      <th></th>\n",
       "      <th>Unnamed: 0</th>\n",
       "      <th>Start Time</th>\n",
       "      <th>End Time</th>\n",
       "      <th>Trip Duration</th>\n",
       "      <th>Start Station</th>\n",
       "      <th>End Station</th>\n",
       "      <th>User Type</th>\n",
       "      <th>Gender</th>\n",
       "      <th>Birth Year</th>\n",
       "      <th>month</th>\n",
       "      <th>day_of_week</th>\n",
       "      <th>month_name</th>\n",
       "    </tr>\n",
       "  </thead>\n",
       "  <tbody>\n",
       "    <tr>\n",
       "      <th>68107</th>\n",
       "      <td>4</td>\n",
       "      <td>2017-01-01 00:07:57</td>\n",
       "      <td>2017-01-01 00:20:53</td>\n",
       "      <td>776</td>\n",
       "      <td>Broadway &amp; Barry Ave</td>\n",
       "      <td>Sedgwick St &amp; North Ave</td>\n",
       "      <td>Subscriber</td>\n",
       "      <td>Male</td>\n",
       "      <td>1990.0</td>\n",
       "      <td>1</td>\n",
       "      <td>6</td>\n",
       "      <td>january</td>\n",
       "    </tr>\n",
       "    <tr>\n",
       "      <th>25190</th>\n",
       "      <td>10</td>\n",
       "      <td>2017-01-01 00:17:13</td>\n",
       "      <td>2017-01-01 11:03:34</td>\n",
       "      <td>38781</td>\n",
       "      <td>Wilton Ave &amp; Diversey Pkwy</td>\n",
       "      <td>Halsted St &amp; Wrightwood Ave</td>\n",
       "      <td>Subscriber</td>\n",
       "      <td>Female</td>\n",
       "      <td>1988.0</td>\n",
       "      <td>1</td>\n",
       "      <td>6</td>\n",
       "      <td>january</td>\n",
       "    </tr>\n",
       "    <tr>\n",
       "      <th>296013</th>\n",
       "      <td>15</td>\n",
       "      <td>2017-01-01 00:25:47</td>\n",
       "      <td>2017-01-01 00:43:23</td>\n",
       "      <td>1056</td>\n",
       "      <td>Clark St &amp; Congress Pkwy</td>\n",
       "      <td>Wolcott Ave &amp; Polk St</td>\n",
       "      <td>Subscriber</td>\n",
       "      <td>Male</td>\n",
       "      <td>1984.0</td>\n",
       "      <td>1</td>\n",
       "      <td>6</td>\n",
       "      <td>january</td>\n",
       "    </tr>\n",
       "    <tr>\n",
       "      <th>279377</th>\n",
       "      <td>17</td>\n",
       "      <td>2017-01-01 00:27:21</td>\n",
       "      <td>2017-01-01 00:42:59</td>\n",
       "      <td>938</td>\n",
       "      <td>Millennium Park</td>\n",
       "      <td>Michigan Ave &amp; 18th St</td>\n",
       "      <td>Subscriber</td>\n",
       "      <td>Male</td>\n",
       "      <td>1991.0</td>\n",
       "      <td>1</td>\n",
       "      <td>6</td>\n",
       "      <td>january</td>\n",
       "    </tr>\n",
       "    <tr>\n",
       "      <th>266974</th>\n",
       "      <td>27</td>\n",
       "      <td>2017-01-01 00:35:26</td>\n",
       "      <td>2017-01-01 00:47:54</td>\n",
       "      <td>748</td>\n",
       "      <td>Larrabee St &amp; Menomonee St</td>\n",
       "      <td>Clark St &amp; Wrightwood Ave</td>\n",
       "      <td>Subscriber</td>\n",
       "      <td>Male</td>\n",
       "      <td>1990.0</td>\n",
       "      <td>1</td>\n",
       "      <td>6</td>\n",
       "      <td>january</td>\n",
       "    </tr>\n",
       "    <tr>\n",
       "      <th>...</th>\n",
       "      <td>...</td>\n",
       "      <td>...</td>\n",
       "      <td>...</td>\n",
       "      <td>...</td>\n",
       "      <td>...</td>\n",
       "      <td>...</td>\n",
       "      <td>...</td>\n",
       "      <td>...</td>\n",
       "      <td>...</td>\n",
       "      <td>...</td>\n",
       "      <td>...</td>\n",
       "      <td>...</td>\n",
       "    </tr>\n",
       "    <tr>\n",
       "      <th>285748</th>\n",
       "      <td>1551484</td>\n",
       "      <td>2017-06-30 23:52:56</td>\n",
       "      <td>2017-07-01 00:03:48</td>\n",
       "      <td>652</td>\n",
       "      <td>Damen Ave &amp; Clybourn Ave</td>\n",
       "      <td>Ashland Ave &amp; Wrightwood Ave</td>\n",
       "      <td>Subscriber</td>\n",
       "      <td>Male</td>\n",
       "      <td>1991.0</td>\n",
       "      <td>6</td>\n",
       "      <td>4</td>\n",
       "      <td>june</td>\n",
       "    </tr>\n",
       "    <tr>\n",
       "      <th>287266</th>\n",
       "      <td>1551480</td>\n",
       "      <td>2017-06-30 23:53:05</td>\n",
       "      <td>2017-07-01 00:12:52</td>\n",
       "      <td>1187</td>\n",
       "      <td>Ellis Ave &amp; 55th St</td>\n",
       "      <td>Cottage Grove Ave &amp; 47th St</td>\n",
       "      <td>Subscriber</td>\n",
       "      <td>Male</td>\n",
       "      <td>1987.0</td>\n",
       "      <td>6</td>\n",
       "      <td>4</td>\n",
       "      <td>june</td>\n",
       "    </tr>\n",
       "    <tr>\n",
       "      <th>217630</th>\n",
       "      <td>1551482</td>\n",
       "      <td>2017-06-30 23:53:16</td>\n",
       "      <td>2017-07-01 00:02:53</td>\n",
       "      <td>577</td>\n",
       "      <td>Wells St &amp; Concord Ln</td>\n",
       "      <td>Theater on the Lake</td>\n",
       "      <td>Subscriber</td>\n",
       "      <td>Male</td>\n",
       "      <td>1986.0</td>\n",
       "      <td>6</td>\n",
       "      <td>4</td>\n",
       "      <td>june</td>\n",
       "    </tr>\n",
       "    <tr>\n",
       "      <th>297429</th>\n",
       "      <td>1551497</td>\n",
       "      <td>2017-06-30 23:58:13</td>\n",
       "      <td>2017-07-01 00:24:22</td>\n",
       "      <td>1569</td>\n",
       "      <td>Southport Ave &amp; Clybourn Ave</td>\n",
       "      <td>Spaulding Ave &amp; Armitage Ave</td>\n",
       "      <td>Subscriber</td>\n",
       "      <td>Female</td>\n",
       "      <td>1989.0</td>\n",
       "      <td>6</td>\n",
       "      <td>4</td>\n",
       "      <td>june</td>\n",
       "    </tr>\n",
       "    <tr>\n",
       "      <th>103455</th>\n",
       "      <td>1551500</td>\n",
       "      <td>2017-06-30 23:59:01</td>\n",
       "      <td>2017-07-01 00:08:41</td>\n",
       "      <td>580</td>\n",
       "      <td>Damen Ave &amp; Division St</td>\n",
       "      <td>Halsted St &amp; Blackhawk St (*)</td>\n",
       "      <td>Subscriber</td>\n",
       "      <td>Male</td>\n",
       "      <td>1990.0</td>\n",
       "      <td>6</td>\n",
       "      <td>4</td>\n",
       "      <td>june</td>\n",
       "    </tr>\n",
       "  </tbody>\n",
       "</table>\n",
       "<p>300000 rows × 12 columns</p>\n",
       "</div>"
      ],
      "text/plain": [
       "        Unnamed: 0          Start Time             End Time  Trip Duration  \\\n",
       "68107            4 2017-01-01 00:07:57  2017-01-01 00:20:53            776   \n",
       "25190           10 2017-01-01 00:17:13  2017-01-01 11:03:34          38781   \n",
       "296013          15 2017-01-01 00:25:47  2017-01-01 00:43:23           1056   \n",
       "279377          17 2017-01-01 00:27:21  2017-01-01 00:42:59            938   \n",
       "266974          27 2017-01-01 00:35:26  2017-01-01 00:47:54            748   \n",
       "...            ...                 ...                  ...            ...   \n",
       "285748     1551484 2017-06-30 23:52:56  2017-07-01 00:03:48            652   \n",
       "287266     1551480 2017-06-30 23:53:05  2017-07-01 00:12:52           1187   \n",
       "217630     1551482 2017-06-30 23:53:16  2017-07-01 00:02:53            577   \n",
       "297429     1551497 2017-06-30 23:58:13  2017-07-01 00:24:22           1569   \n",
       "103455     1551500 2017-06-30 23:59:01  2017-07-01 00:08:41            580   \n",
       "\n",
       "                       Start Station                    End Station  \\\n",
       "68107           Broadway & Barry Ave        Sedgwick St & North Ave   \n",
       "25190     Wilton Ave & Diversey Pkwy    Halsted St & Wrightwood Ave   \n",
       "296013      Clark St & Congress Pkwy          Wolcott Ave & Polk St   \n",
       "279377               Millennium Park         Michigan Ave & 18th St   \n",
       "266974    Larrabee St & Menomonee St      Clark St & Wrightwood Ave   \n",
       "...                              ...                            ...   \n",
       "285748      Damen Ave & Clybourn Ave   Ashland Ave & Wrightwood Ave   \n",
       "287266           Ellis Ave & 55th St    Cottage Grove Ave & 47th St   \n",
       "217630         Wells St & Concord Ln            Theater on the Lake   \n",
       "297429  Southport Ave & Clybourn Ave   Spaulding Ave & Armitage Ave   \n",
       "103455       Damen Ave & Division St  Halsted St & Blackhawk St (*)   \n",
       "\n",
       "         User Type  Gender  Birth Year  month  day_of_week month_name  \n",
       "68107   Subscriber    Male      1990.0      1            6    january  \n",
       "25190   Subscriber  Female      1988.0      1            6    january  \n",
       "296013  Subscriber    Male      1984.0      1            6    january  \n",
       "279377  Subscriber    Male      1991.0      1            6    january  \n",
       "266974  Subscriber    Male      1990.0      1            6    january  \n",
       "...            ...     ...         ...    ...          ...        ...  \n",
       "285748  Subscriber    Male      1991.0      6            4       june  \n",
       "287266  Subscriber    Male      1987.0      6            4       june  \n",
       "217630  Subscriber    Male      1986.0      6            4       june  \n",
       "297429  Subscriber  Female      1989.0      6            4       june  \n",
       "103455  Subscriber    Male      1990.0      6            4       june  \n",
       "\n",
       "[300000 rows x 12 columns]"
      ]
     },
     "execution_count": 26,
     "metadata": {},
     "output_type": "execute_result"
    }
   ],
   "source": [
    "df['month_name'] = m_list_1\n",
    "\n",
    "df.sort_values(by='Start Time')"
   ]
  },
  {
   "cell_type": "code",
   "execution_count": 27,
   "id": "a9f42684",
   "metadata": {},
   "outputs": [
    {
     "name": "stdout",
     "output_type": "stream",
     "text": [
      "The Station most common Start is: \"Streeter Dr & Grand Ave\" with \"6911\" records.\n",
      "The Station most common day of week is is: \"tuesday\" with \"44881\" records.\n",
      "\n"
     ]
    }
   ],
   "source": [
    "station = df['Start Station'].mode()[0]\n",
    "s_count = df['Start Station'].value_counts()[0]\n",
    "dow = df['day_of_week'].mode()[0]\n",
    "dow_count = df['day_of_week'].value_counts()[0]\n",
    "days_dict = {0:'monday',1:'tuesday',2:'wednesday',3:'thursday',4:'friday',5:'saturday',6:'sunday'}\n",
    "print('The Station most common Start is: \"{}\" with \"{}\" records.\\nThe Station most common day of week is is: \"{}\" with \"{}\" records.\\n'.format(station, s_count,days_dict[dow],dow_count ))"
   ]
  },
  {
   "cell_type": "code",
   "execution_count": 28,
   "id": "30631bdc",
   "metadata": {},
   "outputs": [
    {
     "data": {
      "text/plain": [
       "6"
      ]
     },
     "execution_count": 28,
     "metadata": {},
     "output_type": "execute_result"
    }
   ],
   "source": [
    "df['month'].value_counts().idxmax()"
   ]
  },
  {
   "cell_type": "code",
   "execution_count": 29,
   "id": "dfd4d1d4",
   "metadata": {},
   "outputs": [
    {
     "data": {
      "text/plain": [
       "6    98081\n",
       "5    66755\n",
       "4    51659\n",
       "2    32057\n",
       "3    29639\n",
       "1    21809\n",
       "Name: month, dtype: int64"
      ]
     },
     "execution_count": 29,
     "metadata": {},
     "output_type": "execute_result"
    }
   ],
   "source": [
    "month_count = df['month'].value_counts()\n",
    "month_count"
   ]
  },
  {
   "cell_type": "code",
   "execution_count": 30,
   "id": "93269308",
   "metadata": {},
   "outputs": [
    {
     "data": {
      "text/plain": [
       "'Streeter Dr & Grand Ave'"
      ]
     },
     "execution_count": 30,
     "metadata": {},
     "output_type": "execute_result"
    }
   ],
   "source": [
    "df['Start Station'].value_counts().idxmax()"
   ]
  },
  {
   "cell_type": "code",
   "execution_count": 31,
   "id": "cefd355b",
   "metadata": {},
   "outputs": [
    {
     "data": {
      "text/plain": [
       "6911"
      ]
     },
     "execution_count": 31,
     "metadata": {},
     "output_type": "execute_result"
    }
   ],
   "source": [
    "df['Start Station'].value_counts()[0]"
   ]
  },
  {
   "cell_type": "code",
   "execution_count": 34,
   "id": "8f16cbfc",
   "metadata": {},
   "outputs": [
    {
     "data": {
      "text/plain": [
       "98081"
      ]
     },
     "execution_count": 34,
     "metadata": {},
     "output_type": "execute_result"
    }
   ],
   "source": [
    "df['month'].value_counts()[df['month'].value_counts().idxmax()]"
   ]
  },
  {
   "cell_type": "code",
   "execution_count": 35,
   "id": "43daba2c",
   "metadata": {},
   "outputs": [
    {
     "data": {
      "text/plain": [
       "78019.94"
      ]
     },
     "execution_count": 35,
     "metadata": {},
     "output_type": "execute_result"
    }
   ],
   "source": [
    "(df['Trip Duration'].sum()/3600).round(decimals=2)"
   ]
  },
  {
   "cell_type": "code",
   "execution_count": 36,
   "id": "db3bf688",
   "metadata": {},
   "outputs": [
    {
     "data": {
      "text/plain": [
       "78019.94083333333"
      ]
     },
     "execution_count": 36,
     "metadata": {},
     "output_type": "execute_result"
    }
   ],
   "source": [
    "(df['Trip Duration'].sum()/3600)"
   ]
  },
  {
   "cell_type": "code",
   "execution_count": 38,
   "id": "a36d7358",
   "metadata": {},
   "outputs": [
    {
     "data": {
      "text/plain": [
       "78019.9"
      ]
     },
     "execution_count": 38,
     "metadata": {},
     "output_type": "execute_result"
    }
   ],
   "source": [
    "(df['Trip Duration'].sum()/3600).round(1)"
   ]
  },
  {
   "cell_type": "code",
   "execution_count": 39,
   "id": "2644e609",
   "metadata": {},
   "outputs": [
    {
     "data": {
      "text/plain": [
       "68107"
      ]
     },
     "execution_count": 39,
     "metadata": {},
     "output_type": "execute_result"
    }
   ],
   "source": [
    "df['Start Time'].sort_values().idxmin()"
   ]
  },
  {
   "cell_type": "code",
   "execution_count": 53,
   "id": "853a9909",
   "metadata": {},
   "outputs": [
    {
     "data": {
      "text/plain": [
       "103455"
      ]
     },
     "execution_count": 53,
     "metadata": {},
     "output_type": "execute_result"
    }
   ],
   "source": [
    "start_order = df['Start Time'].idxmax()\n",
    "start_order"
   ]
  },
  {
   "cell_type": "code",
   "execution_count": 54,
   "id": "8a200a0b",
   "metadata": {},
   "outputs": [
    {
     "data": {
      "text/plain": [
       "Timestamp('2017-01-01 00:07:57')"
      ]
     },
     "execution_count": 54,
     "metadata": {},
     "output_type": "execute_result"
    }
   ],
   "source": [
    "min(df['Start Time'])"
   ]
  },
  {
   "cell_type": "code",
   "execution_count": 55,
   "id": "55c84541",
   "metadata": {},
   "outputs": [
    {
     "data": {
      "text/plain": [
       "Timestamp('2017-06-30 23:59:01')"
      ]
     },
     "execution_count": 55,
     "metadata": {},
     "output_type": "execute_result"
    }
   ],
   "source": [
    "max(df['Start Time'])"
   ]
  },
  {
   "cell_type": "code",
   "execution_count": null,
   "id": "e7db8d53",
   "metadata": {},
   "outputs": [],
   "source": []
  }
 ],
 "metadata": {
  "kernelspec": {
   "display_name": "Python 3",
   "language": "python",
   "name": "python3"
  },
  "language_info": {
   "codemirror_mode": {
    "name": "ipython",
    "version": 3
   },
   "file_extension": ".py",
   "mimetype": "text/x-python",
   "name": "python",
   "nbconvert_exporter": "python",
   "pygments_lexer": "ipython3",
   "version": "3.7.10"
  }
 },
 "nbformat": 4,
 "nbformat_minor": 5
}
